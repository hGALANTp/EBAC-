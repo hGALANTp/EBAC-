{
  "cells": [
    {
      "cell_type": "markdown",
      "metadata": {
        "id": "3Um_onCPZEf0"
      },
      "source": [
        "# **MÓDULO 19**\n",
        "# Exercício: Estatística Aplicada"
      ]
    },
    {
      "cell_type": "markdown",
      "metadata": {
        "id": "1m0YhZXwZL1q"
      },
      "source": [
        "**Efetividade de Duas Estratégias de Ensino**\n",
        "\n",
        "Imagine que uma escola esteja avaliando a eficácia de duas estratégias de ensino de matemática para alunos do ensino médio. Eles querem determinar se há uma diferença significativa no desempenho médio dos alunos entre as duas estratégias."
      ]
    },
    {
      "cell_type": "markdown",
      "metadata": {
        "id": "lYK3r7d8ZdUy"
      },
      "source": [
        "# **Hipóteses:**\n",
        "\n",
        "* Hipótese nula (H0): A média das notas dos alunos na estratégia A é igual à média das notas dos alunos na estratégia B.\n",
        "* Hipótese alternativa (H1): A média das notas na Estratégia B é maior do que a média das notas na Estratégia A."
      ]
    },
    {
      "cell_type": "markdown",
      "metadata": {
        "id": "aIXDvxeRZtuK"
      },
      "source": [
        "# **Dados:**\n",
        "\n",
        "* Amostra da Estratégia A: Notas de 50 alunos que receberam a Estratégia A.\n",
        "* Amostra da Estratégia B: Notas de 50 alunos que receberam a Estratégia B."
      ]
    },
    {
      "cell_type": "markdown",
      "metadata": {
        "id": "Awvgd4oAZ3Y7"
      },
      "source": [
        "Usaremos um teste Z para comparar as médias das notas entre as duas amostras."
      ]
    },
    {
      "cell_type": "markdown",
      "metadata": {
        "id": "qyJViOFDZ8Y_"
      },
      "source": [
        "Se o p-valor do teste Z for menor que um nível de significância pré-determinado (por exemplo, α = 0.05), rejeitamos a hipótese nula e concluímos que há uma diferença significativa nas médias das notas entre as duas estratégias de ensino."
      ]
    },
    {
      "cell_type": "code",
      "execution_count": 19,
      "metadata": {
        "id": "UW8wHoiGY9sb"
      },
      "outputs": [],
      "source": [
        "import numpy as np\n",
        "import matplotlib.pyplot as plt\n",
        "from scipy import stats"
      ]
    },
    {
      "cell_type": "markdown",
      "metadata": {
        "id": "D6tUtiABaDWI"
      },
      "source": [
        "Os dados são criados a seguir:"
      ]
    },
    {
      "cell_type": "code",
      "execution_count": 20,
      "metadata": {
        "id": "F9LLw8rsaFIS",
        "outputId": "e9f9af36-9817-4398-8fcd-fba14f32f1cf"
      },
      "outputs": [
        {
          "name": "stdout",
          "output_type": "stream",
          "text": [
            "Notas da Estratégia A: [87.64052346 74.00157208 79.78737984 92.40893199 88.6755799 ]\n",
            "Notas da Estratégia B: [64.25440127 79.64282997 68.87033835 60.83241379 74.66181326]\n"
          ]
        }
      ],
      "source": [
        "# Definindo médias e desvios padrão para as notas nas duas estratégias\n",
        "media_estrategia_A = 70\n",
        "desvio_padrao_estrategia_A = 10\n",
        "\n",
        "media_estrategia_B = 75\n",
        "desvio_padrao_estrategia_B = 12\n",
        "\n",
        "# Gerando as amostras de notas para cada estratégia de ensino da nossa base\n",
        "np.random.seed(0)  # Para garantir a reprodutibilidade dos resultados\n",
        "amostra_estrategia_A = np.random.normal(loc=media_estrategia_A, scale=desvio_padrao_estrategia_A, size=50)\n",
        "amostra_estrategia_B = np.random.normal(loc=media_estrategia_B, scale=desvio_padrao_estrategia_B, size=50)\n",
        "\n",
        "print(\"Notas da Estratégia A:\", amostra_estrategia_A[:5])\n",
        "print(\"Notas da Estratégia B:\", amostra_estrategia_B[:5])\n"
      ]
    },
    {
      "cell_type": "markdown",
      "metadata": {
        "id": "KGpDI3hKaUN8"
      },
      "source": [
        "# 1) De acordo com as informações analisadas o nosso teste é unilateral á direita, esquerda ou bicaudal? Justifique.\n",
        "\n",
        "\n"
      ]
    },
    {
      "cell_type": "code",
      "execution_count": 21,
      "metadata": {
        "id": "AeImcp9pbXUb"
      },
      "outputs": [],
      "source": [
        "# Sua justificativa aqui\n",
        "# O Teste é Unilateral à direita, pois a média da estrategia B é maior em relaçao a estrategia A."
      ]
    },
    {
      "cell_type": "markdown",
      "metadata": {
        "id": "xZ5V8EwfbZES"
      },
      "source": [
        "# 2) Calcule as médias para as duas amostragens e as variâncias. Quais insights você pode retirar comparando os dados?"
      ]
    },
    {
      "cell_type": "code",
      "execution_count": 22,
      "metadata": {
        "id": "vwCW7UXkbl-d"
      },
      "outputs": [
        {
          "name": "stdout",
          "output_type": "stream",
          "text": [
            "Média da Estrategia A: 71.40559272313098, Variância 126.68018446943104 \n",
            "Média da Estrategia B: 74.74868110507046, Variância 108.26062024217782 \n",
            "71.40559272313098 74.74868110507046\n"
          ]
        }
      ],
      "source": [
        "#Seu código aqui\n",
        "media_amostra_a = np.mean(amostra_estrategia_A)\n",
        "var_a = np.var(amostra_estrategia_A)\n",
        "media_amostra_b = np.mean(amostra_estrategia_B)\n",
        "var_b = np.var(amostra_estrategia_B)\n",
        "print(f'Média da Estrategia A: {media_amostra_a}, Variância {var_a} ')\n",
        "print(f'Média da Estrategia B: {media_amostra_b}, Variância {var_b} ')\n",
        "print(media_amostra_a, media_amostra_b)"
      ]
    },
    {
      "cell_type": "markdown",
      "metadata": {},
      "source": [
        "**1**- Média da estratégia B é maior do que a estratégia A, isso sugere que as notas da estratégia B tem um desempenho superior. \n",
        "**2** - Variabilidade semelhante, indicando uma disperão semelhante, tornado amostras consistentes.\n",
        "**3** - Como a diferença das médias é maior que o desvio padrão ha um bom indicio de não ser apenas um acaso."
      ]
    },
    {
      "cell_type": "markdown",
      "metadata": {
        "id": "8_skpl7RcAE5"
      },
      "source": [
        "# 3) Imprima os resultados da estatística do teste Z, p value e indique se rejeitaremos ou não a hipótese nula. Justifique sua resposta."
      ]
    },
    {
      "cell_type": "code",
      "execution_count": 23,
      "metadata": {
        "id": "n88wuGCjcNCq"
      },
      "outputs": [
        {
          "name": "stdout",
          "output_type": "stream",
          "text": [
            "Estatística Z: 1.542245935902539\n",
            "p-value: 0.06150692063904584\n",
            "Não rejeitamos H0: Não há evidência suficiente de que B seja melhor.\n"
          ]
        }
      ],
      "source": [
        "#Seu código aqui\n",
        "from scipy.stats import norm\n",
        "\n",
        "\n",
        "# Dados\n",
        "\n",
        "n = 50\n",
        "\n",
        "\n",
        "# Estatística Z\n",
        "z = (media_amostra_b - media_amostra_a) / ((var_b/n+var_a/n)**0.5)\n",
        "\n",
        "# p-value (teste unilateral à direita)\n",
        "p_value = 1 - norm.cdf(z)\n",
        "\n",
        "print(\"Estatística Z:\", z)\n",
        "print(\"p-value:\", p_value)\n",
        "\n",
        "# Decisão\n",
        "alpha = 0.05\n",
        "if p_value < alpha:\n",
        "    print(\"Rejeitamos H0: A Estratégia B tem média significativamente maior.\")\n",
        "else:\n",
        "    print(\"Não rejeitamos H0: Não há evidência suficiente de que B seja melhor.\")\n"
      ]
    },
    {
      "cell_type": "markdown",
      "metadata": {
        "id": "IDR8T-bQc3i2"
      },
      "source": [
        "# 4) Para finalizar monte o gráfico da distribuição da estatística do nosso teste Z e explique o que pode ser observado através dele."
      ]
    },
    {
      "cell_type": "code",
      "execution_count": 24,
      "metadata": {
        "id": "My8VY4QmdEWc"
      },
      "outputs": [
        {
          "data": {
            "image/png": "[encoded data removed]",
            "text/plain": [
              "<Figure size 800x500 with 1 Axes>"
            ]
          },
          "metadata": {},
          "output_type": "display_data"
        }
      ],
      "source": [
        "#Seu código aqui\n",
        "\n",
        "x = np.linspace(-4, 4, 200)\n",
        "y = norm.pdf(x, 0, 1)\n",
        "\n",
        "plt.figure(figsize=(8,5))\n",
        "plt.plot(x, y, label='Distribuição Normal Padrão')\n",
        "\n",
        "# Região crítica (α = 0.05, unilateral direita)\n",
        "z_critico = norm.ppf(0.95)  # ~1.645\n",
        "plt.axvline(z_critico, color='red', linestyle='--', label=f'Z crítico = {z_critico:.2f}')\n",
        "\n",
        "# Estatística Z observada\n",
        "plt.axvline(z, color='green', linestyle='-', label=f'Z observado = {z:.2f}')\n",
        "\n",
        "# Preencher região de rejeição\n",
        "x_fill = np.linspace(z_critico, 4, 100)\n",
        "plt.fill_between(x_fill, norm.pdf(x_fill), color='red', alpha=0.3, label='Região de rejeição (α=0.05)')\n",
        "\n",
        "plt.title(\"Distribuição da Estatística Z\")\n",
        "plt.xlabel(\"Z\")\n",
        "plt.ylabel(\"Densidade de Probabilidade\")\n",
        "plt.legend()\n",
        "plt.show()"
      ]
    },
    {
      "cell_type": "markdown",
      "metadata": {},
      "source": [
        "Aqui Percebemos que o \"Z Observado\" está mais a esquerda do \"Z Crítico\" *NÃO* Rejeitando a hípotese nula, revelando que a não existe relação de caso e efeito  sobre o desempenho da estratégia B.\n"
      ]
    },
    {
      "cell_type": "markdown",
      "metadata": {},
      "source": []
    }
  ],
  "metadata": {
    "colab": {
      "provenance": []
    },
    "kernelspec": {
      "display_name": ".venv",
      "language": "python",
      "name": "python3"
    },
    "language_info": {
      "codemirror_mode": {
        "name": "ipython",
        "version": 3
      },
      "file_extension": ".py",
      "mimetype": "text/x-python",
      "name": "python",
      "nbconvert_exporter": "python",
      "pygments_lexer": "ipython3",
      "version": "3.11.5"
    }
  },
  "nbformat": 4,
  "nbformat_minor": 0
}
